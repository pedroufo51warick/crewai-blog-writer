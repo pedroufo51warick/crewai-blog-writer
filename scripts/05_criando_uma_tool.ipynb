{
 "cells": [
  {
   "cell_type": "markdown",
   "metadata": {},
   "source": [
    "## Como criar uma tool?"
   ]
  },
  {
   "cell_type": "markdown",
   "metadata": {},
   "source": [
    "### Função de exemplo"
   ]
  },
  {
   "cell_type": "code",
   "execution_count": 2,
   "metadata": {},
   "outputs": [
    {
     "name": "stdout",
     "output_type": "stream",
     "text": [
      "{'acao': 'AAPL', 'preco_atual': np.float64(239.6999969482422), 'ultima_atualizacao': '2025-02-28 00:00:00'}\n"
     ]
    }
   ],
   "source": [
    "import yfinance as yf\n",
    "\n",
    "def obter_cotacao_atual(acao: str):\n",
    "    try:\n",
    "        ticker = yf.Ticker(acao)\n",
    "        dados = ticker.history(period=\"1d\")  \n",
    "\n",
    "        if not dados.empty:\n",
    "            ultima_linha = dados.iloc[-1]\n",
    "            return {\n",
    "                \"acao\": acao,\n",
    "                \"preco_atual\": ultima_linha[\"Close\"],\n",
    "                \"ultima_atualizacao\": ultima_linha.name.strftime(\"%Y-%m-%d %H:%M:%S\"),\n",
    "            }\n",
    "        else:\n",
    "            return {\"erro\": \"Nenhum dado encontrado para a ação fornecida.\"}\n",
    "    except Exception as e:\n",
    "        return {\"erro\": str(e)}\n",
    "\n",
    "cotacao = obter_cotacao_atual(\"AAPL\")\n",
    "print(cotacao)"
   ]
  },
  {
   "cell_type": "markdown",
   "metadata": {},
   "source": [
    "### Tool de CrewAI"
   ]
  },
  {
   "cell_type": "code",
   "execution_count": null,
   "metadata": {},
   "outputs": [
    {
     "data": {
      "text/plain": [
       "'{\"acao\": \"AAPL\", \"preco_atual\": 240.85000610351562, \"ultima_atualizacao\": \"2025-02-28 00:00:00\"}'"
      ]
     },
     "execution_count": 3,
     "metadata": {},
     "output_type": "execute_result"
    }
   ],
   "source": [
    "from crewai.tools import BaseTool\n",
    "import yfinance as yf\n",
    "import json\n",
    "\n",
    "\n",
    "class RetornaCotacaoAtual(BaseTool):\n",
    "    name: str = 'Retorna cotação atual'\n",
    "    description: str = 'Obtém a cotação mais recente de uma ação através da API do Yahoo Finance'\n",
    "\n",
    "    def _run(self, acao: str) -> str:\n",
    "        try:\n",
    "            ticker = yf.Ticker(acao)\n",
    "            dados = ticker.history(period=\"1d\")  \n",
    "\n",
    "            if not dados.empty:\n",
    "                ultima_linha = dados.iloc[-1]\n",
    "                return json.dumps({\n",
    "                    \"acao\": acao,\n",
    "                    \"preco_atual\": ultima_linha[\"Close\"],\n",
    "                    \"ultima_atualizacao\": ultima_linha.name.strftime(\"%Y-%m-%d %H:%M:%S\"),\n",
    "                })\n",
    "            else:\n",
    "                return json.dumps({\"erro\": \"Nenhum dado encontrado para a ação fornecida.\"})\n",
    "        except Exception as e:\n",
    "            return json.dumps({\"erro\": str(e)})"
   ]
  },
  {
   "cell_type": "markdown",
   "metadata": {},
   "source": [
    "### Versão profissional"
   ]
  },
  {
   "cell_type": "code",
   "execution_count": null,
   "metadata": {},
   "outputs": [],
   "source": [
    "from crewai.tools import BaseTool\n",
    "import yfinance as yf\n",
    "import json\n",
    "from typing import Type\n",
    "\n",
    "from pydantic import BaseModel, Field\n",
    "\n",
    "class RetornaCotacaoAtualInput(BaseModel):\n",
    "    '''Argumentos da tool RetornaCotacaoAtual'''\n",
    "    acao: str = Field(description='Ticker da ação conforme Yahoo Finance (ex: AAPL para Apple, PETR4.SA para Petrobras, etc)')\n",
    "\n",
    "\n",
    "class RetornaCotacaoAtual(BaseTool):\n",
    "    name: str = 'Retorna cotação atual'\n",
    "    description: str = 'Obtém a cotação mais recente de uma ação através da API do Yahoo Finance'\n",
    "    args_schema: Type[BaseModel] = RetornaCotacaoAtualInput\n",
    "\n",
    "    def _run(self, acao: str) -> str:\n",
    "        try:\n",
    "            ticker = yf.Ticker(acao)\n",
    "            dados = ticker.history(period=\"1d\")  \n",
    "\n",
    "            if not dados.empty:\n",
    "                ultima_linha = dados.iloc[-1]\n",
    "                return json.dumps({\n",
    "                    \"acao\": acao,\n",
    "                    \"preco_atual\": ultima_linha[\"Close\"],\n",
    "                    \"ultima_atualizacao\": ultima_linha.name.strftime(\"%Y-%m-%d %H:%M:%S\"),\n",
    "                })\n",
    "            else:\n",
    "                return json.dumps({\"erro\": \"Nenhum dado encontrado para a ação fornecida.\"})\n",
    "        except Exception as e:\n",
    "            return json.dumps({\"erro\": str(e)})"
   ]
  }
 ],
 "metadata": {
  "kernelspec": {
   "display_name": ".venv",
   "language": "python",
   "name": "python3"
  },
  "language_info": {
   "codemirror_mode": {
    "name": "ipython",
    "version": 3
   },
   "file_extension": ".py",
   "mimetype": "text/x-python",
   "name": "python",
   "nbconvert_exporter": "python",
   "pygments_lexer": "ipython3",
   "version": "3.12.3"
  }
 },
 "nbformat": 4,
 "nbformat_minor": 2
}
